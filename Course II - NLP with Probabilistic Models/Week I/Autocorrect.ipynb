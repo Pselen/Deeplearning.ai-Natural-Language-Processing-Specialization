{
 "cells": [
  {
   "cell_type": "markdown",
   "metadata": {},
   "source": [
    "### Autocorrection Model\n",
    "\n",
    "This week we will create an autocorrect model that can correct misspelled words in a text. Here are the steps:\n",
    "* Identify the misspelled word -- check if the word exists in the vocabulary.\n",
    "* Find strings in n edit distance away (candidates) -- exhaustively generate all the words by applying at most n operations\n",
    "* Filter the candidates -- find the candidates in the vocabulary\n",
    "* Calculate word probabilities the remaining candidates -- Pick the most frequent candidate\n",
    "\n",
    "**Note:** Edit distance of two words is the minimum number of operations required to transform one word to the other. The allowed \n",
    "operationsa are (i) letter insertion, (ii) letter deletion, and (iii) replacing one letter with another. We can also consider replace as an insertion followed by a deletion.\n",
    "\n",
    "**Remark:** Selecting the most probable candidates based solely on word frequency corresponds to using a 1-gram language model to compute word probabilities, i.e. assuming that words occur independently from the previous words."
   ]
  },
  {
   "cell_type": "markdown",
   "metadata": {},
   "source": [
    "### Minimum Edit Distance Algorithm\n",
    "\n",
    "We will use dynamic programming to find minimum edit distance between two words. Dynamic programming builds on optimal solutions for smaller problems to solve the larger problem. For minimum edit distance, we consider the minimum edit distance between the subwords and find the optimal solution starting from the empty string. More concretetly, we place the words to rows and columns of a table by mapping each letter to a row/column and adding empty string. Then, we compute the optimal solutions. Below is an example that computes the distance between \"play\" and \"stay\" using the cost of 2 for replacement\n",
    "\n",
    "<img src=\"./images/edit_distance.png\" style=\"zoom: 50%\">"
   ]
  },
  {
   "cell_type": "markdown",
   "metadata": {},
   "source": [
    "We can recursively formulate this algorithm as:\n",
    "\n",
    "$$\n",
    "D[i,j] = \\min \\left\\{\\begin{array}{l}\n",
    "D[i-1, j]+del\\_cost \\\\\n",
    "D[i, j-1]+ins\\_cost \\\\\n",
    "D[i-1, j-1]+\\left\\{\\begin{array}{l}\n",
    " rep\\_cost;\\text{ } if\\text{ }src[i] \\neq tar[j] \\\\\n",
    "0;\\text{ } if\\text{ } src[i] == tar[j]\n",
    "\\end{array}\\right.\n",
    "\\end{array}\\right.\n",
    "$$\n"
   ]
  }
 ],
 "metadata": {
  "kernelspec": {
   "display_name": "Python 3",
   "language": "python",
   "name": "python3"
  },
  "language_info": {
   "codemirror_mode": {
    "name": "ipython",
    "version": 3
   },
   "file_extension": ".py",
   "mimetype": "text/x-python",
   "name": "python",
   "nbconvert_exporter": "python",
   "pygments_lexer": "ipython3",
   "version": "3.7.4"
  }
 },
 "nbformat": 4,
 "nbformat_minor": 4
}
