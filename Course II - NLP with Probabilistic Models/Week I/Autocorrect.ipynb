{
 "cells": [
  {
   "cell_type": "markdown",
   "metadata": {},
   "source": [
    "### Autocorrection Model\n",
    "\n",
    "This week we create an autocorrect model that can correct misspelled words in a text. Here are the steps:\n",
    "1. Identify the misspelled word: Check if the word exists in the vocabulary.\n",
    "2. Find strings in n edit distance away (candidates): Exhaustively generate all the words by applying at most n operations.\n",
    "3. Filter the candidates: Find the candidates in the vocabulary.\n",
    "4. Calculate word probabilities of the remaining candidates: Pick the most frequent candidate.\n",
    "\n",
    "Let's define a simple corpus with one sentence: \"I am happy because I am learning\"\n",
    "\n",
    "|   Word   | Count |\n",
    "|:--------:|:-----:|\n",
    "|     I    |   2   |\n",
    "|    am    |   2   |\n",
    "|   happy  |   1   |\n",
    "|  because |   1   |\n",
    "| learning |   1   |\n",
    "\n",
    "Table shows the total number of words in this corpus which is 7 and the counts of each word. The probability of any word within this corpus is the number of times the word appears divided by the total number of words.\n",
    "\n",
    "$$\n",
    "P(w) = \\frac{C(w)}{V} -> P(am) = \\frac{C(am)}{V} = \\frac{2}{7}\n",
    "$$\n"
   ]
  },
  {
   "cell_type": "markdown",
   "metadata": {},
   "source": [
    "**Note:** Edit distance of two words is the minimum number of operations required to transform one word to the other. The allowed operations are:\n",
    "- letter insertion, \n",
    "- letter deletion, \n",
    "- replace one letter with another (or an insertion followed by a deletion).\n",
    "\n",
    "**Remark:** Selecting the most probable candidates based solely on word frequency corresponds to using a 1-gram language model to compute word probabilities, i.e. assuming that words occur independently from the previous words."
   ]
  },
  {
   "cell_type": "markdown",
   "metadata": {},
   "source": [
    "### Minimum Edit Distance Algorithm\n",
    "\n",
    "We will use dynamic programming to find minimum edit distance between two words. Dynamic programming builds on optimal solutions for smaller problems to solve the larger problem. For minimum edit distance, we consider the minimum edit distance between the subwords and find the optimal solution starting from the empty string. More concretely, we place the words to rows and columns of a table by mapping each letter to a row/column and adding empty string. Then, we compute the optimal solutions. \n",
    "\n",
    "Below is an example that computes the distance between \"play\" and \"stay\" using the cost of 2 for replacement. Here the source is *play* and the target is *stay*. We will fill out the distance matrix *D* such that the element D(2,3) refers to the minimum edit distance from *pl* to *sta*. In order to fill out this matrix we will perform the followinf steps:\n",
    "\n",
    "1. Fill out the first column: play -> # : Transform play into empty string, i.e. delete each letter\n",
    "2. Fill out the first row: # -> stay : Transform empty string into stay, i.e. insert each letter\n",
    "3. For the rest of the matrix:\n",
    "    1. If you come from the cell above; perform delete operation, as in the first column.\n",
    "    2. If you come from the left cell; perform insert operation, as in the first row.\n",
    "    3. If you come from the upper left cell; if letters do not match perform replace operation, otherwise perform nothing.\n",
    "\n",
    "<img src=\"./images/edit_distance.png\" style=\"zoom: 50%\">"
   ]
  },
  {
   "cell_type": "markdown",
   "metadata": {},
   "source": [
    "We can recursively formulate this algorithm as:\n",
    "\n",
    "$$\n",
    "D[i,j] = \\min \\left\\{\\begin{array}{l}\n",
    "D[i-1, j]+del\\_cost \\\\\n",
    "D[i, j-1]+ins\\_cost \\\\\n",
    "D[i-1, j-1]+\\left\\{\\begin{array}{l}\n",
    " rep\\_cost;\\text{ } if\\text{ }src[i] \\neq tar[j] \\\\\n",
    "0;\\text{ } if\\text{ } src[i] == tar[j]\n",
    "\\end{array}\\right.\n",
    "\\end{array}\\right.\n",
    "$$\n"
   ]
  }
 ],
 "metadata": {
  "kernelspec": {
   "display_name": "Python 3",
   "language": "python",
   "name": "python3"
  },
  "language_info": {
   "codemirror_mode": {
    "name": "ipython",
    "version": 3
   },
   "file_extension": ".py",
   "mimetype": "text/x-python",
   "name": "python",
   "nbconvert_exporter": "python",
   "pygments_lexer": "ipython3",
   "version": "3.7.6"
  }
 },
 "nbformat": 4,
 "nbformat_minor": 4
}
