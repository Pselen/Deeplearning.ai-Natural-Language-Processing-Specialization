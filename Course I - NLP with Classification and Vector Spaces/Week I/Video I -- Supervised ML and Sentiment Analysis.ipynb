{
 "cells": [
  {
   "cell_type": "markdown",
   "metadata": {},
   "source": [
    "## Supervised Machine Learning & Sentiment Analysis"
   ]
  },
  {
   "cell_type": "markdown",
   "metadata": {},
   "source": [
    "### Supervised Machine Learning"
   ]
  },
  {
   "cell_type": "markdown",
   "metadata": {},
   "source": [
    "- **Input:** A set of samples with a set of features ($X$) and labels ($y$).\n",
    "- **Goal**: Minimize the model error based on predictions and labels.\n",
    "- **Approach:** Construct a prediction function (i.e. model) with parameters $\\theta$ that maps input features ($X$) to predictions ($\\hat{y}$) and update function parameters to minimize the error (i.e. cost function) between $y$ and $\\hat{y}$.\n",
    "- **Cost Function:** A cost function compares $y$ and $\\hat{y}$ and quantifies how similar they are. \n",
    "- A high level representation of model training in supervised ML:\n",
    "\n",
    "<img src=\"images/supervised_ml.png\" style=\"zoom: 33%;\" />"
   ]
  },
  {
   "cell_type": "markdown",
   "metadata": {},
   "source": [
    "### Sentiment Analysis"
   ]
  },
  {
   "cell_type": "markdown",
   "metadata": {},
   "source": [
    "The task of predicting if a piece of text is positive or negative. In this course, we label positive texts with 1 and negatives with 0. We will build a **logistic regression** (LR) model, a type of prediction function, by extracting features from a set of tweets annotated with positive or negative labels and minimizing a cost function (*training*). Consequently, we will have a model capable of predicting whether a text is negative or positive. "
   ]
  }
 ],
 "metadata": {
  "kernelspec": {
   "display_name": "Python 3",
   "language": "python",
   "name": "python3"
  },
  "language_info": {
   "codemirror_mode": {
    "name": "ipython",
    "version": 3
   },
   "file_extension": ".py",
   "mimetype": "text/x-python",
   "name": "python",
   "nbconvert_exporter": "python",
   "pygments_lexer": "ipython3",
   "version": "3.7.4"
  }
 },
 "nbformat": 4,
 "nbformat_minor": 4
}
